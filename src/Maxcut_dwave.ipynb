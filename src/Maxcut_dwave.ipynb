{
  "nbformat": 4,
  "nbformat_minor": 0,
  "metadata": {
    "colab": {
      "name": "Maxcut-dwave.ipynb",
      "provenance": [],
      "collapsed_sections": [
        "I6QeeFO2NchS",
        "aNZl8nmeNVLy",
        "PlKAaatiO3bi",
        "IG3UVzTpO6yK"
      ]
    },
    "kernelspec": {
      "name": "python3",
      "display_name": "Python 3"
    },
    "language_info": {
      "name": "python"
    }
  },
  "cells": [
    {
      "cell_type": "markdown",
      "metadata": {
        "id": "7Hhb1EORNzQa"
      },
      "source": [
        "##Initialize D-Wave"
      ]
    },
    {
      "cell_type": "code",
      "metadata": {
        "id": "JFaDUwbJB0bc"
      },
      "source": [
        "pip install dwave-ocean-sdk"
      ],
      "execution_count": null,
      "outputs": []
    },
    {
      "cell_type": "code",
      "metadata": {
        "id": "PyLGwV-1F2l0"
      },
      "source": [
        "!dwave setup"
      ],
      "execution_count": null,
      "outputs": []
    },
    {
      "cell_type": "code",
      "metadata": {
        "id": "6UpTVRHCUoUG"
      },
      "source": [
        "!dwave config create"
      ],
      "execution_count": null,
      "outputs": []
    },
    {
      "cell_type": "code",
      "metadata": {
        "id": "6TBhRF05Udbo"
      },
      "source": [
        "!dwave config inspect"
      ],
      "execution_count": null,
      "outputs": []
    },
    {
      "cell_type": "code",
      "metadata": {
        "id": "NJJX-s5tNgW8"
      },
      "source": [
        "!dwave ping"
      ],
      "execution_count": null,
      "outputs": []
    },
    {
      "cell_type": "code",
      "metadata": {
        "id": "R8BYjLIFBwH8"
      },
      "source": [
        "# ------ Import necessary packages ----\n",
        "from collections import defaultdict\n",
        "\n",
        "from dwave.system.samplers import DWaveSampler, LeapHybridSampler\n",
        "from dwave.system.composites import EmbeddingComposite, FixedEmbeddingComposite\n",
        "import networkx as nx\n",
        "import random\n",
        "import time\n",
        "import numpy as np \n",
        "\n",
        "import matplotlib\n",
        "matplotlib.use(\"agg\")\n",
        "%matplotlib inline\n",
        "import matplotlib.pyplot as plt\n",
        "from matplotlib import pyplot as plt"
      ],
      "execution_count": 5,
      "outputs": []
    },
    {
      "cell_type": "code",
      "metadata": {
        "id": "GdF-uPrLPiu9"
      },
      "source": [
        "# Import the Dwave packages dimod and neal\n",
        "import dimod\n",
        "import neal\n",
        "from dimod.reference.samplers import ExactSolver"
      ],
      "execution_count": 6,
      "outputs": []
    },
    {
      "cell_type": "code",
      "metadata": {
        "id": "1FBc39MGRaLL"
      },
      "source": [
        "def stopper(func):\n",
        "  start = time.time()\n",
        "  returnVal = func()\n",
        "  stop = time.time()\n",
        "  print(\"Elapsed time:\", stop-start)\n",
        "  return returnVal"
      ],
      "execution_count": 11,
      "outputs": []
    },
    {
      "cell_type": "markdown",
      "metadata": {
        "id": "I6QeeFO2NchS"
      },
      "source": [
        "##Graph generation methods"
      ]
    },
    {
      "cell_type": "code",
      "metadata": {
        "id": "cF-GZGggfo-T"
      },
      "source": [
        "# ------- Graph creation -------\n",
        "def createRandomGraphClusters(n, p, q, K=2):\n",
        "  G=nx.empty_graph(K*n)\n",
        "\n",
        "  #Edges across\n",
        "  for k1 in range(K):\n",
        "    for k2 in range(K):\n",
        "      if (k1!=k2):\n",
        "        for u in range(n*k1,n*(k1+1)):\n",
        "          for v in range(n*k2,n*(k2+1)):\n",
        "            if (random.random()<p):\n",
        "              G.add_edge(u,v)\n",
        "\n",
        "  #Edges within\n",
        "  for k1 in range(K):\n",
        "    for u in range(n*k1,n*(k1+1)):\n",
        "      for v in range(u+1,n*(k1+1)):\n",
        "        if (random.random()<q):\n",
        "          G.add_edge(u,v)\n",
        "\n",
        "  #Assign color to each node\n",
        "  for k in range(K):\n",
        "    for i in range(0,n):\n",
        "      G.nodes[n*k+i]['c']=k\n",
        "\n",
        "  return G\n",
        "\n",
        "\n",
        "def addWeightsToGraph(G):\n",
        "  across_edges = [(u, v) for u, v in G.edges if G.nodes[u]['c']!=G.nodes[v]['c']]\n",
        "  within_edges = [(u, v) for u, v in G.edges if G.nodes[u]['c']==G.nodes[v]['c']]\n",
        "  weightWithin = 0.0\n",
        "  weightAcross = 0.0\n",
        "  for (u, v) in across_edges:\n",
        "    rand=random.random()\n",
        "    weightAcross+=rand\n",
        "    G.edges[u, v]['weight']=rand\n",
        "\n",
        "  for (u, v) in within_edges:    \n",
        "    rand=random.random()\n",
        "    weightWithin+=rand\n",
        "    G.edges[u, v]['weight']=rand\n",
        "\n",
        "  print(\"weightAcross:\", weightAcross)\n",
        "  print(\"weightWithin:\", weightWithin)\n",
        "  return G"
      ],
      "execution_count": 2,
      "outputs": []
    },
    {
      "cell_type": "markdown",
      "metadata": {
        "id": "aNZl8nmeNVLy"
      },
      "source": [
        "###Deprecated graph generation"
      ]
    },
    {
      "cell_type": "code",
      "metadata": {
        "id": "H4mMkH9VNUNH"
      },
      "source": [
        "def createRandomGraph(n, p, q):\n",
        "  G=nx.empty_graph(2*n)\n",
        "\n",
        "  #Edges across\n",
        "  for i in range(0,n):\n",
        "    for j in range(n,2*n):\n",
        "      if (random.random()<p):\n",
        "        G.add_edge(i,j)\n",
        "\n",
        "  #Edges within\n",
        "  for i in range(0,n):\n",
        "    for j in range(0,n):\n",
        "      if (random.random()<q):\n",
        "        G.add_edge(i,j)\n",
        "      if (random.random()<q):\n",
        "        G.add_edge(n+i,n+j)\n",
        "  \n",
        "  for i in range(0,n):\n",
        "    G.nodes[i]['c']=0\n",
        "    G.nodes[n+i]['c']=1\n",
        "\n",
        "  return G\n",
        "\n",
        "def createRandomGraphWeighted(n, p, q):\n",
        "  G=createRandomGraph(n, p, q)\n",
        "  across_edges = [(u, v) for u, v in G.edges if G.nodes[u]['c']!=G.nodes[v]['c']]\n",
        "  within_edges = [(u, v) for u, v in G.edges if G.nodes[u]['c']==G.nodes[v]['c']]\n",
        "  weightWithin = 0.0\n",
        "  weightAcross = 0.0\n",
        "  for (u, v) in across_edges:\n",
        "    rand=random.random()\n",
        "    weightAcross+=rand\n",
        "    G.edges[u, v]['weight']=rand\n",
        "\n",
        "  for (u, v) in within_edges:    \n",
        "    rand=random.random()\n",
        "    weightWithin+=rand\n",
        "    G.edges[u, v]['weight']=rand\n",
        "\n",
        "  print(\"weightAcross:\", weightAcross)\n",
        "  print(\"weightWithin:\", weightWithin)\n",
        "  return G"
      ],
      "execution_count": 3,
      "outputs": []
    },
    {
      "cell_type": "markdown",
      "metadata": {
        "id": "F0-YYa2NN-47"
      },
      "source": [
        "##Construct graph"
      ]
    },
    {
      "cell_type": "code",
      "metadata": {
        "id": "-oar9lPzCdJM"
      },
      "source": [
        "# ------- Set up our graph -------\n",
        "\n",
        "# Create empty graph\n",
        "#G = nx.Graph()\n",
        "N = 500\n",
        "K = 2\n",
        "\n",
        "#G = createRandomGraph(N,0.5,0.1)\n",
        "#G = createRandomGraphClusters(N, 0.001, 0.99, K)\n",
        "G = createRandomGraphClusters(N, 0.8, 0.1, K)\n",
        "addWeightsToGraph(G)\n",
        "\n",
        "#G = createRandomGraphWeighted(N,0.9,0.2)\n",
        "\n",
        "# Add edges to the graph (also adds nodes)\n",
        "#G.add_edges_from([(1,2),(1,3),(2,4),(3,4),(3,5),(4,5)])\n",
        "#G.add_edges_from([(1,2,weight=0.1),(1,3,weight=0.1),(2,4,weight=0.1),(3,4,weight=0.1),(3,5,weight=0.1),(4,5,weight=0.1)])\n",
        "\n",
        "\n",
        "#G= nx.circular_ladder_graph(11)\n",
        "#G= nx.fast_gnp_random_graph(1000,0.2)\n",
        "\n",
        "arr = np.arange(K)\n",
        "color_map = np.repeat(arr, N)"
      ],
      "execution_count": null,
      "outputs": []
    },
    {
      "cell_type": "code",
      "metadata": {
        "id": "ZIBzzFIIHf7d"
      },
      "source": [
        "# ------- Set up our graph -------\n",
        "# Graph for max-cut\n",
        "N = 100\n",
        "K = 4\n",
        "\n",
        "G = createRandomGraphClusters(N, 0.5, 0.1, K)\n",
        "addWeightsToGraph(G)\n",
        "\n",
        "arr = np.arange(K)\n",
        "color_map = np.repeat(arr, N)"
      ],
      "execution_count": null,
      "outputs": []
    },
    {
      "cell_type": "code",
      "metadata": {
        "id": "1kJVdAGp63HT"
      },
      "source": [
        "cut_edges = [(u, v) for u, v in G.edges if color_map[u]!=color_map[v]]\n",
        "uncut_edges = [(u, v) for u, v in G.edges if color_map[u]==color_map[v]]\n",
        "\n",
        "pos = nx.spring_layout(G)\n",
        "nx.draw_networkx_nodes(G, pos, nodelist=G.nodes, node_color=color_map)\n",
        "nx.draw_networkx_edges(G, pos, edgelist=cut_edges, style='dashdot', alpha=0.5, width=1)\n",
        "nx.draw_networkx_edges(G, pos, edgelist=uncut_edges, style='solid', width=1)\n",
        "#nx.draw_networkx_edges(G, pos, edgelist=G.edges, style='solid', width=1)\n",
        "nx.draw_networkx_labels(G, pos)\n",
        "#nx.draw_networkx_edge_labels(G,pos,edge_labels=nx.get_edge_attributes(G,'weight'))\n",
        "\n",
        "print()"
      ],
      "execution_count": null,
      "outputs": []
    },
    {
      "cell_type": "markdown",
      "metadata": {
        "id": "XIs__5YqOHmc"
      },
      "source": [
        "##Construct QUBOs"
      ]
    },
    {
      "cell_type": "markdown",
      "metadata": {
        "id": "dYxm24VKOkgC"
      },
      "source": [
        "###Minimum cut"
      ]
    },
    {
      "cell_type": "code",
      "metadata": {
        "colab": {
          "base_uri": "https://localhost:8080/"
        },
        "id": "yR2CrwV3IQge",
        "outputId": "9066d8d9-d5d8-4499-c1d9-1c2f9e88df2d"
      },
      "source": [
        "# ------- Deterministic minimum cut -------\n",
        "\n",
        "cut_value, partition = stopper(lambda: nx.minimum_cut(G, 0, N, 'weight'))\n",
        "\n",
        "print(\"Minimum cut value:\", cut_value)\n",
        "reachable, non_reachable = partition\n",
        "\n",
        "#pos = nx.spring_layout(G)\n",
        "#nx.draw_networkx_nodes(G, pos, nodelist=non_reachable, node_color='c')\n",
        "#nx.draw_networkx_nodes(G, pos, nodelist=reachable, node_color='r')\n",
        "#nx.draw_networkx_edges(G, pos)"
      ],
      "execution_count": 22,
      "outputs": [
        {
          "output_type": "stream",
          "text": [
            "Elapsed time: 4.9302308559417725\n",
            "Minimum cut value: 241.52172259315452\n"
          ],
          "name": "stdout"
        }
      ]
    },
    {
      "cell_type": "code",
      "metadata": {
        "id": "mQxIHqt5XZnb"
      },
      "source": [
        "# ------- Set up our QUBO dictionary MIN_CUT WEIGHTED-------\n",
        "\n",
        "# Initialize our Q matrix\n",
        "Q = defaultdict(float)\n",
        "\n",
        "# Update Q matrix for every edge in the graph\n",
        "for i, j in G.edges:\n",
        "    w=G.edges[i,j]['weight']\n",
        "    Q[(i,i)]+= 1*w\n",
        "    Q[(j,j)]+= 1*w\n",
        "    Q[(i,j)]+= -2*w\n",
        "\n",
        "Q[(0,0)]+=1000000\n",
        "Q[(N,N)]-=1000000"
      ],
      "execution_count": 13,
      "outputs": []
    },
    {
      "cell_type": "markdown",
      "metadata": {
        "id": "PlKAaatiO3bi"
      },
      "source": [
        "###Max-K-Cut"
      ]
    },
    {
      "cell_type": "code",
      "metadata": {
        "id": "3NAA2nn4sha9"
      },
      "source": [
        "# ------- Set up our QUBO dictionary MAX_K_CUT-------\n",
        "\n",
        "# Initialize our Q matrix\n",
        "Q = defaultdict(int)\n",
        "\n",
        "# Update Q matrix for every edge in the graph\n",
        "for i, j in G.edges:\n",
        "  for k1 in range(K):\n",
        "    for k2 in range(K):\n",
        "      if (k1!=k2):\n",
        "        #print(\"v_\" + str(i) + \"_\" + str(k1) + \" - \" + \"v_\" + str(j) + \"_\" + str(k2))\n",
        "        Q[(i*K+k1,j*K+k2)] += -1\n",
        "\n",
        "for v in range(K*N):\n",
        "  for k1 in range(K):\n",
        "    for k2 in range(K):\n",
        "      if (k1!=k2):\n",
        "        Q[(v*K+k1,v*K+k2)] += 10000    "
      ],
      "execution_count": null,
      "outputs": []
    },
    {
      "cell_type": "code",
      "metadata": {
        "id": "_GIdJcyoRsZV"
      },
      "source": [
        "# ------- Set up our QUBO dictionary MAX_K_CUT WEIGHTED-------\n",
        "\n",
        "# Initialize our Q matrix\n",
        "Q = defaultdict(int)\n",
        "\n",
        "# Update Q matrix for every edge in the graph\n",
        "for u, v in G.edges:\n",
        "  for i in range(K):\n",
        "    for j in range(K):\n",
        "      if (i!=j):\n",
        "        w=G.edges[u,v]['weight']\n",
        "        Q[(u*K+i,v*K+j)] += -1*w\n",
        "\n",
        "for u in range(K*N):\n",
        "  for i in range(K):\n",
        "    for j in range(K):\n",
        "      if (i!=j):\n",
        "        Q[(u*K+i,u*K+j)] += 10000 "
      ],
      "execution_count": 36,
      "outputs": []
    },
    {
      "cell_type": "markdown",
      "metadata": {
        "id": "IG3UVzTpO6yK"
      },
      "source": [
        "###Max-Cut"
      ]
    },
    {
      "cell_type": "code",
      "metadata": {
        "id": "zftTsRG-CelT"
      },
      "source": [
        "# ------- Set up our QUBO dictionary MAX_CUT-------\n",
        "\n",
        "# Initialize our Q matrix\n",
        "Q = defaultdict(int)\n",
        "\n",
        "# Update Q matrix for every edge in the graph\n",
        "for i, j in G.edges:\n",
        "    Q[(i,i)]+= -1\n",
        "    Q[(j,j)]+= -1\n",
        "    Q[(i,j)]+= 2"
      ],
      "execution_count": 24,
      "outputs": []
    },
    {
      "cell_type": "code",
      "metadata": {
        "id": "lb1GcSmeF3qc"
      },
      "source": [
        "# ------- Set up our QUBO dictionary MAX_CUT WEIGHTED-------\n",
        "\n",
        "# Initialize our Q matrix\n",
        "Q = defaultdict(float)\n",
        "\n",
        "# Update Q matrix for every edge in the graph\n",
        "for i, j in G.edges:\n",
        "    w=G.edges[i,j]['weight']\n",
        "    Q[(i,i)]+= -1*w\n",
        "    Q[(j,j)]+= -1*w\n",
        "    Q[(i,j)]+= 2*w"
      ],
      "execution_count": 25,
      "outputs": []
    },
    {
      "cell_type": "markdown",
      "metadata": {
        "id": "W1ETxHUcGMHs"
      },
      "source": [
        "## Optimize QUBO"
      ]
    },
    {
      "cell_type": "code",
      "metadata": {
        "id": "kJgJBAn7Py4k"
      },
      "source": [
        "# ------- Run our QUBO on the CPU -------\n",
        "\n",
        "# Run the QUBO on the solver from your config file\n",
        "sampler = dimod.ExactSolver()\n",
        "response = sampler.sample_qubo(Q)"
      ],
      "execution_count": 14,
      "outputs": []
    },
    {
      "cell_type": "code",
      "metadata": {
        "id": "73Z91EbmO7qt",
        "colab": {
          "base_uri": "https://localhost:8080/"
        },
        "outputId": "f28f2561-6a78-4274-ed60-9e2fd879bca2"
      },
      "source": [
        "# ------- Run our QUBO on the simulated QPU -------\n",
        "# Set up QPU parameters\n",
        "chainstrength = 8\n",
        "numruns = 10\n",
        "\n",
        "sampler = neal.SimulatedAnnealingSampler()\n",
        "start = time.time()\n",
        "response = sampler.sample_qubo(Q,\n",
        "                               chain_strength=chainstrength,\n",
        "                               num_reads=numruns,\n",
        "                               label='Example - Maximum Cut weighted')\n",
        "end = time.time()\n",
        "print(\"Elapsed time:\",end-start)"
      ],
      "execution_count": 37,
      "outputs": [
        {
          "output_type": "stream",
          "text": [
            "Elapsed time: 18.833839416503906\n"
          ],
          "name": "stdout"
        }
      ]
    },
    {
      "cell_type": "code",
      "metadata": {
        "colab": {
          "base_uri": "https://localhost:8080/"
        },
        "id": "ohG2-qJphGvw",
        "outputId": "8b609a0a-1a7e-403d-ef69-61c2dcc9e143"
      },
      "source": [
        "# ------- Run our QUBO on hybrid -------\n",
        "\n",
        "sampler = LeapHybridSampler()\n",
        "start = time.time()\n",
        "response = sampler.sample_qubo(Q,\n",
        "                               label='Example - Maximum Cut weighted')\n",
        "end = time.time()\n",
        "print(\"Elapsed time:\",end-start)"
      ],
      "execution_count": null,
      "outputs": [
        {
          "output_type": "stream",
          "text": [
            "Elapsed time: 2.095048189163208\n"
          ],
          "name": "stdout"
        }
      ]
    },
    {
      "cell_type": "code",
      "metadata": {
        "id": "ELmXj8NMChLy",
        "colab": {
          "base_uri": "https://localhost:8080/"
        },
        "outputId": "58370d3d-4688-44b2-92d0-2393ce5a885d"
      },
      "source": [
        "# ------- Run our QUBO on the QPU -------\n",
        "# Set up QPU parameters\n",
        "chainstrength = 8\n",
        "numruns = 10\n",
        "\n",
        "sampler = EmbeddingComposite(DWaveSampler())\n",
        "start = time.time()\n",
        "response = sampler.sample_qubo(Q,\n",
        "                               chain_strength=chainstrength,\n",
        "                               num_reads=numruns,\n",
        "                               label='Example - Maximum Cut weighted')\n",
        "end = time.time()\n",
        "print(\"Elapsed time:\",end-start)"
      ],
      "execution_count": null,
      "outputs": [
        {
          "output_type": "stream",
          "text": [
            "Elapsed time: 3.234708309173584\n"
          ],
          "name": "stdout"
        }
      ]
    },
    {
      "cell_type": "code",
      "metadata": {
        "id": "c0rindxtCjP6"
      },
      "source": [
        "# ------- Print results to user -------\n",
        "print('-' * 60)\n",
        "print('{:>15s}{:>15s}{:^15s}{:^15s}'.format('Set 0','Set 1','Energy','Cut Size'))\n",
        "print('-' * 60)\n",
        "for sample, E in response.data(fields=['sample','energy']):\n",
        "    S0 = [k for k,v in sample.items() if v == 0]\n",
        "    S1 = [k for k,v in sample.items() if v == 1]\n",
        "    print('{:>15s}{:>15s}{:^15s}{:^15s}'.format(str(S0),str(S1),str(E),str(int(-1*E))))\n"
      ],
      "execution_count": null,
      "outputs": []
    },
    {
      "cell_type": "code",
      "metadata": {
        "id": "i2Cauq-6BY7x"
      },
      "source": [
        "# ------- Display results to user -------\n",
        "# Grab best result\n",
        "# Note: \"best\" result is the result with the lowest energy\n",
        "# Note2: the look up table (lut) is a dictionary, where the key is the node index\n",
        "#   and the value is the set label. For example, lut[5] = 1, indicates that\n",
        "#   node 5 is in set 1 (S1).\n",
        "lut = response.first.sample\n",
        "\n",
        "# Interpret best result in terms of nodes and edges\n",
        "S0 = [node for node in G.nodes if not lut[node]]\n",
        "S1 = [node for node in G.nodes if lut[node]]\n",
        "cut_edges = [(u, v) for u, v in G.edges if lut[u]!=lut[v]]\n",
        "uncut_edges = [(u, v) for u, v in G.edges if lut[u]==lut[v]]\n",
        "\n",
        "# Display best result\n",
        "pos = nx.spring_layout(G)\n",
        "nx.draw_networkx_nodes(G, pos, nodelist=S0, node_color='r')\n",
        "nx.draw_networkx_nodes(G, pos, nodelist=S1, node_color='c')\n",
        "nx.draw_networkx_edges(G, pos, edgelist=cut_edges, style='dashdot', alpha=0.5, width=1)\n",
        "nx.draw_networkx_edges(G, pos, edgelist=uncut_edges, style='solid', width=1)\n",
        "nx.draw_networkx_labels(G, pos)\n",
        "\n",
        "filename = \"maxcut_plot.png\"\n",
        "plt.savefig(filename, bbox_inches='tight')\n",
        "print(\"\\nYour plot is saved to {}\".format(filename))"
      ],
      "execution_count": null,
      "outputs": []
    },
    {
      "cell_type": "code",
      "metadata": {
        "id": "7CB5Jr3uwquV"
      },
      "source": [
        "# ------- Display results to user -------\n",
        "# Grab best result\n",
        "# Note: \"best\" result is the result with the lowest energy\n",
        "# Note2: the look up table (lut) is a dictionary, where the key is the node index\n",
        "#   and the value is the set label. For example, lut[5] = 1, indicates that\n",
        "#   node 5 is in set 1 (S1).\n",
        "lut = response.first.sample\n",
        "\n",
        "# Interpret best result in terms of nodes and edges\n",
        "color_map_found=[]\n",
        "\n",
        "for v in range(K*N):\n",
        "  for k in range(K):\n",
        "    if (lut[v*K+k]==1):\n",
        "      color_map_found.append(k)\n",
        "\n",
        "cut_edges = [(u, v) for u, v in G.edges if color_map_found[u]!=color_map_found[v]]\n",
        "uncut_edges = [(u, v) for u, v in G.edges if color_map_found[u]==color_map_found[v]]\n",
        "\n",
        "# Display best result\n",
        "#pos = nx.spring_layout(G)\n",
        "nx.draw_networkx_nodes(G, pos, nodelist=G.nodes, node_color=color_map_found)\n",
        "nx.draw_networkx_edges(G, pos, edgelist=cut_edges, style='dashdot', alpha=0.5, width=1)\n",
        "nx.draw_networkx_edges(G, pos, edgelist=uncut_edges, style='solid', width=1)\n",
        "#nx.draw_networkx_edges(G, pos, edgelist=G.edges, style='solid', width=1)\n",
        "nx.draw_networkx_labels(G, pos)\n",
        "\n",
        "filename = \"maxcut_plot.png\"\n",
        "plt.savefig(filename, bbox_inches='tight')\n",
        "print(\"\\nYour plot is saved to {}\".format(filename))"
      ],
      "execution_count": null,
      "outputs": []
    },
    {
      "cell_type": "code",
      "metadata": {
        "id": "WlAwzn4i36Ez"
      },
      "source": [
        "lut = response.first.sample\n",
        "\n",
        "# Interpret best result in terms of nodes and edges\n",
        "color_map_found=[]\n",
        "\n",
        "for v in range(K*N):\n",
        "  for k in range(K):\n",
        "    if (lut[v*K+k]==1):\n",
        "      color_map_found.append(k)"
      ],
      "execution_count": 40,
      "outputs": []
    },
    {
      "cell_type": "code",
      "metadata": {
        "id": "e2aBVQDeCUMw"
      },
      "source": [
        "color_map_found"
      ],
      "execution_count": null,
      "outputs": []
    }
  ]
}